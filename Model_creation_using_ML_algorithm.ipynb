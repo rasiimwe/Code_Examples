{
 "cells": [
  {
   "cell_type": "code",
   "execution_count": 2,
   "id": "c6d3a5cd",
   "metadata": {},
   "outputs": [
    {
     "data": {
      "text/plain": [
       "array(['HipHop', 'Dance'], dtype=object)"
      ]
     },
     "execution_count": 2,
     "metadata": {},
     "output_type": "execute_result"
    }
   ],
   "source": [
    "#Rebecca Asiimwe:- model creation using ML algorithm\n",
    "#Dataset downloaded from Kaggle\n",
    "import pandas as pd\n",
    "from sklearn.tree import DecisionTreeClassifier \n",
    "from sklearn.model_selection import train_test_split\n",
    "from sklearn.metrics import accuracy_score\n",
    "import joblib\n",
    "from sklearn import tree\n",
    "\n",
    "\n",
    "df = pd.read_csv('music.csv')\n",
    "df\n",
    "df.describe()\n",
    "df.shape\n",
    "\n",
    "X = df.drop(columns=[\"genre\"])#input set\n",
    "X\n",
    "\n",
    "y = df[\"genre\"]#output set\n",
    "y\n",
    "\n",
    "#creating model using ML algorithm\n",
    "#creating object model and set it to a new instance of DTREE class\n",
    "model = DecisionTreeClassifier()#next we train the model to learn patterns in the data\n",
    "model.fit(X, y)#method takes 2 datasets - input and output sets, then ask model to make prediction - what is the kind of muzic that 21 yr old likes?\n",
    "predictions = model.predict([[21, 1], [22,0]]) #takes 2 dimensional array 1=male 0=female\n",
    "predictions"
   ]
  },
  {
   "cell_type": "code",
   "execution_count": 3,
   "id": "6d49a7a3",
   "metadata": {},
   "outputs": [
    {
     "data": {
      "text/plain": [
       "1.0"
      ]
     },
     "execution_count": 3,
     "metadata": {},
     "output_type": "execute_result"
    }
   ],
   "source": [
    "#But we need to measure accuracy of model after building it - if not accurate enough, fine tune it or build a model using a different another algorithm\n",
    "#Measuring accuracy - split data set into training (~70-80% of the data) and testing (20-30% for testing)\n",
    "#can replace above lines but I want to preserve history\n",
    "model = DecisionTreeClassifier()#next we train the model to learn patterns in the data\n",
    "X_train, X_test, y_train, y_test = train_test_split(X, y, test_size = 0.2)#allocating 20% of the data for testing\n",
    "model.fit(X_train, y_train)#now on 2 datasets to check accuracy\n",
    "predictions = model.predict(X_test)\n",
    "score = accuracy_score(y_test, predictions)#compare predicitins with actual values in output set for testing\n",
    "score\n",
    "#Gives 1.0 = 100% but value will change everytime the dataset is split as train_test_split randomly picks data for training and testing\n",
    "#ctrl + enter - accuracy hovers between 75-100%, at test_size = 0.8 the accuracy drops to 0.4 even 0.2 = we are using very little data to train the data\n",
    "#The more data we give and the cleaner it is (avoiding back patterns) the more accurate it will be"
   ]
  },
  {
   "cell_type": "code",
   "execution_count": 5,
   "id": "f9afbbcb",
   "metadata": {},
   "outputs": [
    {
     "data": {
      "text/plain": [
       "array(['HipHop'], dtype=object)"
      ]
     },
     "execution_count": 5,
     "metadata": {},
     "output_type": "execute_result"
    }
   ],
   "source": [
    "#Persisting models\n",
    "joblib.dump(model, 'music-recommender.joblib')\n",
    "\n",
    "#--------------- we dont want to call model all the time\n",
    "model = joblib.load('music-recommender.joblib')\n",
    "predictions = model.predict([[21, 1]])\n",
    "predictions"
   ]
  },
  {
   "cell_type": "code",
   "execution_count": null,
   "id": "63e68f42",
   "metadata": {},
   "outputs": [],
   "source": [
    "#Visualizing decision trees\n",
    "tree.export_graphviz(model, out_file='music_recommender.dot', \n",
    "                     feature_names=['age', 'gender'],\n",
    "                     class_names=sorted(y.unique()),\n",
    "                     label='all',\n",
    "                     rounded=True,\n",
    "                     filled=True)"
   ]
  }
 ],
 "metadata": {
  "kernelspec": {
   "display_name": "Python 3",
   "language": "python",
   "name": "python3"
  },
  "language_info": {
   "codemirror_mode": {
    "name": "ipython",
    "version": 3
   },
   "file_extension": ".py",
   "mimetype": "text/x-python",
   "name": "python",
   "nbconvert_exporter": "python",
   "pygments_lexer": "ipython3",
   "version": "3.8.8"
  }
 },
 "nbformat": 4,
 "nbformat_minor": 5
}
